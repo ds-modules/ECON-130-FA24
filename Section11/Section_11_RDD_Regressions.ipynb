{
 "cells": [
  {
   "cell_type": "markdown",
   "id": "0d4cac22",
   "metadata": {},
   "source": [
    "# Coding Section 4: RDD in Regression Form\n",
    "## Econ 130\n",
    "GSIs: Alice Schmitz and Ale Marchetti-Bowick\n",
    "\n",
    "### Goals for today\n",
    "* In small groups, create the necessary variables and run a RDD in regression form"
   ]
  },
  {
   "cell_type": "code",
   "execution_count": null,
   "id": "503a57f7",
   "metadata": {},
   "outputs": [],
   "source": [
    "## Clear the workspace and read in the data\n",
    "\n",
    "rm(list = ls())\n",
    "narrow_data <- read.csv('school_bonds_narrow.csv')"
   ]
  },
  {
   "cell_type": "code",
   "execution_count": 3,
   "id": "d2406c99",
   "metadata": {},
   "outputs": [],
   "source": [
    "## Step 1: Create indicator variables for greater than threshold\n",
    "## and less than or equal to the threshold\n",
    "\n",
    "## Greater than\n",
    "narrow_data$greater_than <- 0\n",
    "narrow_data$greater_than[narrow_data$margin > 0] <- 1\n",
    "\n",
    "## now, you do less than or equal to 0\n",
    "?lm"
   ]
  },
  {
   "cell_type": "code",
   "execution_count": 4,
   "id": "e69a3d39",
   "metadata": {},
   "outputs": [],
   "source": [
    "## Create the two linear trend variables by multiplying each indicator \n",
    "## variable with the 'margin' variable.\n",
    "## Name these 'greater_trend' and 'less_trend'\n",
    "\n"
   ]
  },
  {
   "cell_type": "code",
   "execution_count": 5,
   "id": "afd9caf1",
   "metadata": {},
   "outputs": [],
   "source": [
    "## Run the regression! \n",
    "\n",
    "## First, try it with f1cap_exp as the dependent variable.\n",
    "\n",
    "## hint: use the `lm` command and store it to a variable. Then use summary(`your variable`)\n",
    "## hint: You should have three independent right-hand-side variables as we\n",
    "## discussed: greater_than, as well as the two trend variables you created.\n",
    "\n",
    "?lm"
   ]
  },
  {
   "cell_type": "markdown",
   "id": "88de3855",
   "metadata": {},
   "source": [
    "## Questions\n",
    "\n",
    "1. What is the RDD estimate? How do you interpret it?\n",
    "2. Is the estimate precise?\n",
    "3. How does it compare to the binscatter visual estimate from last time? (run the code cell below to get the figure)"
   ]
  },
  {
   "cell_type": "code",
   "execution_count": null,
   "id": "1d9f6822",
   "metadata": {},
   "outputs": [],
   "source": [
    "library(rdrobust)\n",
    "rdplot(y = narrow_data$f1cap_exp, x = narrow_data$margin, c=0, p=1, \n",
    "       x.label = \"cohort size\", \n",
    "       y.label = \"class size\", \n",
    "       title = \"Regression Discontinuity\")"
   ]
  },
  {
   "cell_type": "markdown",
   "id": "a4bcdf31",
   "metadata": {},
   "source": [
    "Your answers here:"
   ]
  },
  {
   "cell_type": "code",
   "execution_count": null,
   "id": "c125a685",
   "metadata": {},
   "outputs": [],
   "source": [
    "## Now, do it again for f1noncap_exp"
   ]
  },
  {
   "cell_type": "code",
   "execution_count": null,
   "id": "26203e6c",
   "metadata": {},
   "outputs": [],
   "source": [
    "## Are there any other variables you want to control for? What about state \n",
    "## (as a series of indicator variables)? Do you remember how to do this? You can\n",
    "## look at example code from the MinWage exercise.\n",
    "\n",
    "## Try that here. Did your estimates change?"
   ]
  },
  {
   "cell_type": "markdown",
   "id": "488ba518",
   "metadata": {},
   "source": [
    "## Please raise your hand when you reach this point!\n",
    "That is so I know when to start the group disucssion of the material up to here. As you are waiting, please continue on the questions below."
   ]
  },
  {
   "cell_type": "markdown",
   "id": "b9ff4c43",
   "metadata": {},
   "source": [
    "### Longer-run outcomes\n",
    "Now, let's think about longer-run outcomes. Run the same RDD regression again (with or without the controls, it's up to you), but with outcomes further in the future, such as f2cap_exp, f3_cap_exp, etc.\n",
    "\n",
    "You may also want to check the rdplot binscatter for any weird effects (for instance, is the linear trend approximately correct?)\n",
    "\n",
    "What do you observe? What sorts of things may be causing this?"
   ]
  },
  {
   "cell_type": "code",
   "execution_count": null,
   "id": "d50c82d5",
   "metadata": {},
   "outputs": [],
   "source": [
    "## Your code here"
   ]
  },
  {
   "cell_type": "markdown",
   "id": "3dba8bc7",
   "metadata": {},
   "source": [
    "Observations here"
   ]
  },
  {
   "cell_type": "markdown",
   "id": "df7a9e59",
   "metadata": {},
   "source": [
    "### Future bond passage\n",
    "\n",
    "Related to the above, also try running either the regression or the rdplot binscatter for the leads variable `passbond` (f1, f2, f3, etc.).\n",
    "\n",
    "What do you find? What does it mean for the results of the regression on outcomes one year after bond passage? What about two, three, or four years after bond passage?"
   ]
  },
  {
   "cell_type": "code",
   "execution_count": 3,
   "id": "4c98392c",
   "metadata": {},
   "outputs": [],
   "source": [
    "## Your code here"
   ]
  },
  {
   "cell_type": "markdown",
   "id": "d4bb0564",
   "metadata": {},
   "source": [
    "Observations here"
   ]
  }
 ],
 "metadata": {
  "kernelspec": {
   "display_name": "R",
   "language": "R",
   "name": "ir"
  },
  "language_info": {
   "codemirror_mode": "r",
   "file_extension": ".r",
   "mimetype": "text/x-r-source",
   "name": "R",
   "pygments_lexer": "r",
   "version": "4.3.1"
  }
 },
 "nbformat": 4,
 "nbformat_minor": 5
}

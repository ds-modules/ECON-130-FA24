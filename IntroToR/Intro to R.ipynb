{
 "cells": [
  {
   "cell_type": "markdown",
   "metadata": {},
   "source": [
    "# Introduction to R and Jupyter Notebooks\n",
    "\n",
    "## Econ 130 Fall 2022\n",
    "\n",
    "## Overview\n",
    "\n",
    "Graduate Student Instructors: Ale Marchetti-Bowick and Alice Schmitz\n",
    "\n",
    "### Goals for today\n",
    "This notebook is intended to introduce you to basic analytic techniques in R within Jupyter notebooks. R is an open-source statistical computing software used to analyze data. A Jupyter Notebook is an open-source web application that allows you to create and share documents that contain live code, equations, visualizations and narrative text that describes the output of our code. \n",
    "\n",
    "Here, we will introduce some fundamental coding techniques that will help you in this course so that when we cover it again in section, it will not be the first time you have seen it: **this and additional material will be reviewed and covered in more detail in the four coding discussion sections.**\n",
    "\n",
    "\n",
    "## Jupyter and R Basics\n",
    "* When you first log into Datahub, to create a new notebook, click the \"New\" button and select R\n",
    "* All Jupyter Notebooks are comprised of a colelction of boxes called *cells*. We will be working with two types in this course: *Markdown* cells for text and *Code* cells for code.\n",
    "* Select a cell by clicking on it. \n",
    "    * If you click to the left of the cell contents, you will see a blue bar on the left. That means you are in *command mode*. You'll be able to see the Cell type in the dropdown list at the top of the page and you can use command mode keyboard shortcuts. You will not be able to edit the contents of the cell. Pressing `Esc` will take you into command mode.\n",
    "    * If you click in the cell, you'll instead enter *edit mode*. The bar at the left will be green and you will be able to edit the contents of the cell. Pressing `Enter` will take you into edit mode.\n",
    "* Write R script by selecting the option \"Code\" from the dropdown list, or write text by selecting \"Markdown\"\n",
    "* Select \"Insert\" to add a block of text or code\n",
    "* Run code by highlighting and selecting \"Run\"\n",
    "    * You can also use `control+enter` to run a cell, or `shift+enter` to run a cell and automatically select the next cell\n",
    "    * When code is running, you will see an asterisk * to the left of the cell. When it is finished, you will see a number (ex. In [4] is finished; In [*] is still running).\n",
    "* To clear your coding output, select Cell=>All Output=>Clear from the toolbar at the top of the page\n",
    "* Jupyter notebooks automatically save periodically, but you can also force it to save with `Control+S`\n",
    "    * You can view the save status at the top of the page next to the notebook name\n",
    "* Close a notebook by selecting File=>Close and Halt.\n",
    "* Some useful guides are here:\n",
    "    * [Markdown Cheat Sheet](https://www.markdownguide.org/cheat-sheet/) for pretty text like in this cell\n",
    "    * [Jupyter Notebook Keyboard Shortcuts](https://towardsdatascience.com/jypyter-notebook-shortcuts-bf0101a98330)\n",
    "    * Your GSIs refer to these all the time!\n",
    "\n",
    "Note: This introduction is based off material originally created by Kayleigh Barnes"
   ]
  },
  {
   "cell_type": "code",
   "execution_count": null,
   "metadata": {},
   "outputs": [],
   "source": [
    "# Clear the workspace, this removes all data and numbers you have stored or saved in R\n",
    "# The hashtag (or octothorpe, if you're old-fashioned) is how you tell R that what follows is\n",
    "# a \"comment\" and will not be interpreted as code. They are just references for you and us.\n",
    "rm(list = ls())\n",
    "\n",
    "# The help function, using ? or help() before a command will bring up information on what the command does\n",
    "?setwd\n",
    "help(setwd)"
   ]
  },
  {
   "cell_type": "code",
   "execution_count": null,
   "metadata": {},
   "outputs": [],
   "source": [
    "#The working directory is the location that R will look for data in\n",
    "# this is the same as telling your computer to look in a documents folder when uploading something\n",
    "getwd()"
   ]
  },
  {
   "cell_type": "markdown",
   "metadata": {},
   "source": [
    "User written open-source packages are needed for specific functionality in R (e.g. nice graphics). However, we need to manually install these packages (once) and load them at the beginning of every script. Packages have been pre-installed in Jupyter notebooks.  If you are wondering why a command you've used before is no longer working, it may be because you haven't loaded the package."
   ]
  },
  {
   "cell_type": "code",
   "execution_count": null,
   "metadata": {},
   "outputs": [],
   "source": [
    "# Install packages\n",
    "# Installing Packages is generally not necessary if you are working on Jupyter because many packages have been\n",
    "# pre-installed by the Berkeley Data Science team, but is required the first time you want to use a\n",
    "# package if you choose to run R code \"locally\" on your own computer. \"Uncomment\" (delete the # at the \n",
    "# beginning of) the next line if you are working on your own computer outside of Datahub and Jupyter.\n",
    "\n",
    "#install.packages('ggplot2')\n",
    "  \n",
    "# Load required packages\n",
    "# This is always necessary. If some of your code isn't working, double-check that you've loaded the required\n",
    "# packages!\n",
    "library(ggplot2)"
   ]
  },
  {
   "cell_type": "markdown",
   "metadata": {},
   "source": [
    "## Loading in data and summary statistics"
   ]
  },
  {
   "cell_type": "markdown",
   "metadata": {},
   "source": [
    "Now let's load in the data set. Make sure you have uploaded the data to Jupyter before running the next line of code. We are going to use data on a set of households in Mexico in the 1990's. The data includes a village ID, a household ID, and demogrpahic variables like income, household size, age and gender of the head of household and a poverty indicator. "
   ]
  },
  {
   "cell_type": "code",
   "execution_count": null,
   "metadata": {},
   "outputs": [],
   "source": [
    "# Reading data into R from a CSV file\n",
    "#  ?read.table # delete the # at the beginning of this line to view the help entry for the \"read\" command\n",
    "  MyFirstData <- read.csv('MyFirstData.csv', header = TRUE)"
   ]
  },
  {
   "cell_type": "markdown",
   "metadata": {},
   "source": [
    "Notice that there is no ouput from the code that reads in the data. Unlike excel, R stores the data in the background and we need to use specific comands to interact with it. Once it's read in, we can use several commands to describe the data"
   ]
  },
  {
   "cell_type": "code",
   "execution_count": null,
   "metadata": {},
   "outputs": [],
   "source": [
    "# Structure of the Data\n",
    "  str(MyFirstData)"
   ]
  },
  {
   "cell_type": "code",
   "execution_count": null,
   "metadata": {},
   "outputs": [],
   "source": [
    "  # Summary of the Data\n",
    "  summary(MyFirstData)"
   ]
  },
  {
   "cell_type": "code",
   "execution_count": null,
   "metadata": {},
   "outputs": [],
   "source": [
    "  # Variable Names\n",
    "  colnames(MyFirstData)"
   ]
  },
  {
   "cell_type": "code",
   "execution_count": null,
   "metadata": {},
   "outputs": [],
   "source": [
    "  #Number of Observations\n",
    "  nrow(MyFirstData)"
   ]
  },
  {
   "cell_type": "code",
   "execution_count": null,
   "metadata": {},
   "outputs": [],
   "source": [
    "  #Display first 6 rows of the data \n",
    "  head(MyFirstData)"
   ]
  },
  {
   "cell_type": "code",
   "execution_count": null,
   "metadata": {},
   "outputs": [],
   "source": [
    "  #Tabulate a specific variable (to refer to a variable, use Dataset$VariableName)\n",
    "  table(MyFirstData$sexhead)"
   ]
  },
  {
   "cell_type": "markdown",
   "metadata": {},
   "source": [
    "## Basic Data Cleaning and Formatting\n",
    "\n",
    "### Category Variable\n",
    "\n",
    "Right now, we have two categorical variables: sexhead, which indicates the sex of the head of household and pov_HH, which indicates whether a household is below the poverty line. The data entries for these variables are text rather than numbers (we call these string variables in the data science world). Often when doing data analysis, it is easier to map categorical text variables to numbers, particularly 0 and 1. These variables that contain only 0's and 1's are called dummy variables. \n",
    "\n",
    "Now, suppose we want to create a poor_male variable, which will be defined as 1 if the household is categorized as poor (pov_HH = pobre) and the head of the household is male (sexhead is Male), and 0 otherwise."
   ]
  },
  {
   "cell_type": "code",
   "execution_count": null,
   "metadata": {},
   "outputs": [],
   "source": [
    "#Create one dummy variable based on T/F condition\n",
    "MyFirstData$poor_male <- ifelse(MyFirstData$pov_HH == 'pobre' & MyFirstData$sexhead == 'Male', 1, 0)\n",
    "\n",
    "#tabulate the observations\n",
    "table(MyFirstData$poor_male)"
   ]
  },
  {
   "cell_type": "markdown",
   "metadata": {},
   "source": [
    "### Numerical Variable\n",
    "We can use regular mathematical operations to create numerical variables from other variables."
   ]
  },
  {
   "cell_type": "code",
   "execution_count": null,
   "metadata": {},
   "outputs": [],
   "source": [
    "#Squaring an existing variable\n",
    "MyFirstData$agehead2 <-  MyFirstData$agehead^2\n",
    "summary(MyFirstData$agehead2)\n",
    "\n",
    "#Creating a constant\n",
    "MyFirstData$constant <- 1\n",
    "summary(MyFirstData$constant)"
   ]
  },
  {
   "cell_type": "markdown",
   "metadata": {},
   "source": [
    " ### New Datasets\n",
    " We may also want to create a new data that summarizes the old, or is a subset of the original dataset."
   ]
  },
  {
   "cell_type": "code",
   "execution_count": null,
   "metadata": {},
   "outputs": [],
   "source": [
    "#Subset of only observations with male head of hh\n",
    "data_males<-MyFirstData[ which(MyFirstData$sexhead=='Male'),]\n",
    "summary(data_males)\n",
    "\n",
    "#First select variables to aggregate\n",
    "myvars <- c(\"villid\", \"IncomeLab\", \"famsize\", \"agehead\")\n",
    "meandata <- MyFirstData[myvars]\n",
    "\n",
    "#Collapse data to get average values by village.  Could also use \"sum\" as the function to get totals\n",
    "meandata<-aggregate(meandata, by = list(meandata$villid), FUN = mean)\n",
    "nrow(meandata)\n",
    "summary(meandata)\n",
    "\n"
   ]
  },
  {
   "cell_type": "markdown",
   "metadata": {},
   "source": [
    "## Making comparisons - T-Tests\n",
    "\n",
    "A main goal of working with data is to make inferences about the population we are interested in. Much of Econ 130 will be focused on methods to make these inferences: What is the relationship between two variables? Did a policy have a significant treatment effect?\n",
    "\n",
    "If you have taken Stats 20, you are likely already familiar with a t-test. T-tests compare the difference in the means of a variable between two groups. The test statistic tells us whether the difference is *significant*, that is we can confidently say that the two groups are different. "
   ]
  },
  {
   "cell_type": "code",
   "execution_count": null,
   "metadata": {},
   "outputs": [],
   "source": [
    "#let's run a t-test comparing the average family size for households above and below the poverty line\n",
    "t.test(MyFirstData$famsize ~ MyFirstData$pov_HH, var.equal = TRUE)"
   ]
  },
  {
   "cell_type": "markdown",
   "metadata": {},
   "source": [
    "## Visualizing Data\n",
    "Make sure that the ggplot2 package is included at the top of the script.  Below, we show an example of a scatterplot using ggplot.  \"geom\" can be used to denote different types of graphs such as a line graph."
   ]
  },
  {
   "cell_type": "code",
   "execution_count": null,
   "metadata": {},
   "outputs": [],
   "source": [
    "head(MyFirstData)"
   ]
  },
  {
   "cell_type": "code",
   "execution_count": null,
   "metadata": {},
   "outputs": [],
   "source": [
    "  ggplot(MyFirstData, aes(x = agehead, y=famsize)) + geom_point()\n",
    "  ?geom_line  "
   ]
  },
  {
   "cell_type": "markdown",
   "metadata": {},
   "source": [
    "We can use a direct function or ggplot to create a histogram. Notice that changing the options in the function allows you to customize the graph. Use the help function to learn more about the options for each command."
   ]
  },
  {
   "cell_type": "code",
   "execution_count": null,
   "metadata": {},
   "outputs": [],
   "source": [
    "# Base Graphics\n",
    "  hist(MyFirstData$agehead)\n",
    "  hist(MyFirstData$agehead, col = \"blue\", main = \"Histogram of age\")\n",
    "# Using ggplot2: more customization options are available: Google for more!\n",
    "  ggplot(MyFirstData, aes(x = agehead)) + geom_histogram(fill = \"blue\") + ggtitle(\"Histogram of age\")"
   ]
  }
 ],
 "metadata": {
  "kernelspec": {
   "display_name": "Python 3 (ipykernel)",
   "language": "python",
   "name": "python3"
  },
  "language_info": {
   "codemirror_mode": {
    "name": "ipython",
    "version": 3
   },
   "file_extension": ".py",
   "mimetype": "text/x-python",
   "name": "python",
   "nbconvert_exporter": "python",
   "pygments_lexer": "ipython3",
   "version": "3.10.9"
  }
 },
 "nbformat": 4,
 "nbformat_minor": 4
}
